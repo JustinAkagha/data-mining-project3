{
 "cells": [
  {
   "cell_type": "code",
   "execution_count": 22,
   "id": "48ed746a",
   "metadata": {},
   "outputs": [
    {
     "data": {
      "text/html": [
       "<div>\n",
       "<style scoped>\n",
       "    .dataframe tbody tr th:only-of-type {\n",
       "        vertical-align: middle;\n",
       "    }\n",
       "\n",
       "    .dataframe tbody tr th {\n",
       "        vertical-align: top;\n",
       "    }\n",
       "\n",
       "    .dataframe thead th {\n",
       "        text-align: right;\n",
       "    }\n",
       "</style>\n",
       "<table border=\"1\" class=\"dataframe\">\n",
       "  <thead>\n",
       "    <tr style=\"text-align: right;\">\n",
       "      <th></th>\n",
       "      <th>Unnamed: 0</th>\n",
       "      <th>price</th>\n",
       "      <th>ranks</th>\n",
       "      <th>title</th>\n",
       "      <th>no_of_reviews</th>\n",
       "      <th>ratings</th>\n",
       "      <th>author</th>\n",
       "      <th>cover_type</th>\n",
       "      <th>year</th>\n",
       "      <th>genre</th>\n",
       "    </tr>\n",
       "  </thead>\n",
       "  <tbody>\n",
       "    <tr>\n",
       "      <th>0</th>\n",
       "      <td>0</td>\n",
       "      <td>12.49</td>\n",
       "      <td>1.0</td>\n",
       "      <td>The Lost Symbol</td>\n",
       "      <td>16118.0</td>\n",
       "      <td>4.4</td>\n",
       "      <td>Dan Brown</td>\n",
       "      <td>Hardcover</td>\n",
       "      <td>2009</td>\n",
       "      <td>Fiction</td>\n",
       "    </tr>\n",
       "    <tr>\n",
       "      <th>1</th>\n",
       "      <td>1</td>\n",
       "      <td>13.40</td>\n",
       "      <td>2.0</td>\n",
       "      <td>The Shack: Where Tragedy Confronts Eternity</td>\n",
       "      <td>23392.0</td>\n",
       "      <td>4.7</td>\n",
       "      <td>William P. Young</td>\n",
       "      <td>Paperback</td>\n",
       "      <td>2009</td>\n",
       "      <td>Fiction</td>\n",
       "    </tr>\n",
       "    <tr>\n",
       "      <th>2</th>\n",
       "      <td>2</td>\n",
       "      <td>9.93</td>\n",
       "      <td>3.0</td>\n",
       "      <td>Liberty and Tyranny: A Conservative Manifesto</td>\n",
       "      <td>5036.0</td>\n",
       "      <td>4.8</td>\n",
       "      <td>Mark R. Levin</td>\n",
       "      <td>Hardcover</td>\n",
       "      <td>2009</td>\n",
       "      <td>Non Fiction</td>\n",
       "    </tr>\n",
       "    <tr>\n",
       "      <th>3</th>\n",
       "      <td>3</td>\n",
       "      <td>14.30</td>\n",
       "      <td>4.0</td>\n",
       "      <td>Breaking Dawn (The Twilight Saga, Book 4)</td>\n",
       "      <td>16912.0</td>\n",
       "      <td>4.7</td>\n",
       "      <td>Stephenie Meyer</td>\n",
       "      <td>Hardcover</td>\n",
       "      <td>2009</td>\n",
       "      <td>Fiction</td>\n",
       "    </tr>\n",
       "    <tr>\n",
       "      <th>4</th>\n",
       "      <td>4</td>\n",
       "      <td>9.99</td>\n",
       "      <td>5.0</td>\n",
       "      <td>Going Rogue: An American Life</td>\n",
       "      <td>1572.0</td>\n",
       "      <td>4.6</td>\n",
       "      <td>Sarah Palin</td>\n",
       "      <td>Hardcover</td>\n",
       "      <td>2009</td>\n",
       "      <td>Non Fiction</td>\n",
       "    </tr>\n",
       "  </tbody>\n",
       "</table>\n",
       "</div>"
      ],
      "text/plain": [
       "   Unnamed: 0  price  ranks                                          title  \\\n",
       "0           0  12.49    1.0                                The Lost Symbol   \n",
       "1           1  13.40    2.0    The Shack: Where Tragedy Confronts Eternity   \n",
       "2           2   9.93    3.0  Liberty and Tyranny: A Conservative Manifesto   \n",
       "3           3  14.30    4.0      Breaking Dawn (The Twilight Saga, Book 4)   \n",
       "4           4   9.99    5.0                  Going Rogue: An American Life   \n",
       "\n",
       "   no_of_reviews  ratings            author cover_type  year        genre  \n",
       "0        16118.0      4.4         Dan Brown  Hardcover  2009      Fiction  \n",
       "1        23392.0      4.7  William P. Young  Paperback  2009      Fiction  \n",
       "2         5036.0      4.8     Mark R. Levin  Hardcover  2009  Non Fiction  \n",
       "3        16912.0      4.7   Stephenie Meyer  Hardcover  2009      Fiction  \n",
       "4         1572.0      4.6       Sarah Palin  Hardcover  2009  Non Fiction  "
      ]
     },
     "execution_count": 22,
     "metadata": {},
     "output_type": "execute_result"
    }
   ],
   "source": [
    "import pandas as pd\n",
    "from sklearn.model_selection import train_test_split\n",
    "from sklearn.linear_model import LinearRegression\n",
    "from sklearn.metrics import mean_squared_error\n",
    "\n",
    "# Load the dataset\n",
    "df = pd.read_excel(\"Amazon_top100_bestselling_books_2009to2021.xlsx\")\n",
    "#reference: https://www.kaggle.com/datasets/abdulhamidadavize/top-100-best-selling-books-on-amazon-20092021\n",
    "\n",
    "df.head()"
   ]
  },
  {
   "cell_type": "markdown",
   "id": "0b881d9d",
   "metadata": {},
   "source": [
    "### Experiment 1"
   ]
  },
  {
   "cell_type": "code",
   "execution_count": 44,
   "id": "e11b3111",
   "metadata": {},
   "outputs": [
    {
     "name": "stdout",
     "output_type": "stream",
     "text": [
      "0.10824218053289059\n"
     ]
    }
   ],
   "source": [
    "# Load the dataset\n",
    "df = pd.read_excel(\"Amazon_top100_bestselling_books_2009to2021.xlsx\")\n",
    "\n",
    "# Pre-processing\n",
    "# Dealing with null values\n",
    "df.dropna(inplace=True)\n",
    "\n",
    "# Feature selection\n",
    "selected_features = ['price', 'no_of_reviews', 'ratings', 'year', 'cover_type', 'genre']\n",
    "df_selected = df[selected_features]\n",
    "\n",
    "# Feature transformation\n",
    "df_selected = pd.get_dummies(df_selected, columns=['cover_type', 'genre'])\n",
    "\n",
    "# Splitting data into features and target variable\n",
    "X = df_selected.drop('price', axis=1)\n",
    "y = df_selected['price']\n",
    "\n",
    "# Split data into training and testing sets\n",
    "X_train, X_test, y_train, y_test = train_test_split(X, y, test_size=0.2, random_state=42)\n",
    "\n",
    "# Modeling\n",
    "# Create and train the linear regression model\n",
    "model = LinearRegression()\n",
    "model.fit(X_train, y_train)\n",
    "print(model.score(X_test, y_test))"
   ]
  },
  {
   "cell_type": "code",
   "execution_count": 45,
   "id": "3d0e59bf",
   "metadata": {},
   "outputs": [
    {
     "name": "stdout",
     "output_type": "stream",
     "text": [
      "Root Mean Squared Error (RMSE): 6.030164667026598\n"
     ]
    }
   ],
   "source": [
    "# Evaluation\n",
    "y_pred = model.predict(X_test)\n",
    "\n",
    "root_mean_square_error = mean_squared_error(y_test, y_pred, squared=False)\n",
    "print(\"Root Mean Squared Error (RMSE):\", root_mean_square_error)"
   ]
  },
  {
   "cell_type": "markdown",
   "id": "64ec2ced",
   "metadata": {},
   "source": [
    "### Experiment 2"
   ]
  },
  {
   "cell_type": "code",
   "execution_count": 46,
   "id": "1c6604bc",
   "metadata": {},
   "outputs": [
    {
     "name": "stdout",
     "output_type": "stream",
     "text": [
      "0.2540808595811387\n"
     ]
    }
   ],
   "source": [
    "# Load the dataset\n",
    "df = pd.read_excel(\"Amazon_top100_bestselling_books_2009to2021.xlsx\")\n",
    "\n",
    "# Pre-processing\n",
    "# Dealing with null values\n",
    "df.dropna(inplace=True)\n",
    "\n",
    "# Feature selection\n",
    "selected_features = ['no_of_reviews', 'ratings', 'year', 'cover_type', 'genre']\n",
    "df_selected = df[selected_features]\n",
    "\n",
    "# Feature transformation\n",
    "df_selected = pd.get_dummies(df_selected, columns=['cover_type', 'genre'])\n",
    "\n",
    "# Splitting data into features and target variable\n",
    "X = df_selected.drop('no_of_reviews', axis=1)\n",
    "y = df_selected['no_of_reviews']\n",
    "\n",
    "# Split data into training and testing sets\n",
    "X_train, X_test, y_train, y_test = train_test_split(X, y, test_size=0.2, random_state=42)\n",
    "\n",
    "# Modeling\n",
    "model = LinearRegression()\n",
    "model.fit(X_train, y_train)\n",
    "print(model.score(X_test, y_test))"
   ]
  },
  {
   "cell_type": "code",
   "execution_count": 47,
   "id": "155ff326",
   "metadata": {},
   "outputs": [
    {
     "name": "stdout",
     "output_type": "stream",
     "text": [
      "Root Mean Squared Error (RMSE) for predicting number of reviews: 27937.82880837136\n"
     ]
    }
   ],
   "source": [
    "# Evaluation\n",
    "# Make predictions on the test set\n",
    "y_pred = model.predict(X_test)\n",
    "\n",
    "# Calculate RMSE\n",
    "rmse = mean_squared_error(y_test, y_pred, squared=False)\n",
    "print(\"Root Mean Squared Error (RMSE) for predicting number of reviews:\", rmse)"
   ]
  },
  {
   "cell_type": "markdown",
   "id": "06baef11",
   "metadata": {},
   "source": [
    "### Experiment 3"
   ]
  },
  {
   "cell_type": "code",
   "execution_count": 60,
   "id": "d17f756f",
   "metadata": {},
   "outputs": [
    {
     "name": "stdout",
     "output_type": "stream",
     "text": [
      "Score: 0.383550815878132\n"
     ]
    }
   ],
   "source": [
    "# Load the dataset\n",
    "df = pd.read_excel(\"Amazon_top100_bestselling_books_2009to2021.xlsx\")\n",
    "\n",
    "# Pre-processing\n",
    "# Dealing with null values\n",
    "df.dropna(inplace=True)\n",
    "\n",
    "# Feature selection\n",
    "selected_features = ['no_of_reviews', 'year', 'cover_type', 'genre']\n",
    "df_selected = df[selected_features]\n",
    "\n",
    "# Feature transformation\n",
    "df_selected = pd.get_dummies(df_selected, columns=['cover_type', 'genre'])\n",
    "\n",
    "# Splitting data into features and target variable\n",
    "X = df_selected\n",
    "y = df['ratings']  # New target variable\n",
    "\n",
    "# Split data into training and testing sets\n",
    "X_train, X_test, y_train, y_test = train_test_split(X, y, test_size=0.1, random_state=180)\n",
    "\n",
    "# Modeling (Random Forest Regression)\n",
    "model = RandomForestRegressor(random_state=42)\n",
    "model.fit(X_train, y_train)\n",
    "print(\"Score:\", model.score(X_test, y_test))"
   ]
  },
  {
   "cell_type": "code",
   "execution_count": 58,
   "id": "b1889722",
   "metadata": {},
   "outputs": [
    {
     "name": "stdout",
     "output_type": "stream",
     "text": [
      "Root Mean Squared Error (RMSE) for predicting ratings with Random Forest Regression: 0.15902810438565912\n"
     ]
    }
   ],
   "source": [
    "# Evaluation\n",
    "y_pred = model.predict(X_test)\n",
    "rmse = mean_squared_error(y_test, y_pred, squared=False)\n",
    "print(\"Root Mean Squared Error (RMSE) for predicting ratings with Random Forest Regression:\", rmse)"
   ]
  },
  {
   "cell_type": "code",
   "execution_count": null,
   "id": "9482329e",
   "metadata": {},
   "outputs": [],
   "source": []
  },
  {
   "cell_type": "code",
   "execution_count": null,
   "id": "078b2f58",
   "metadata": {},
   "outputs": [],
   "source": []
  }
 ],
 "metadata": {
  "kernelspec": {
   "display_name": "Python 3 (ipykernel)",
   "language": "python",
   "name": "python3"
  },
  "language_info": {
   "codemirror_mode": {
    "name": "ipython",
    "version": 3
   },
   "file_extension": ".py",
   "mimetype": "text/x-python",
   "name": "python",
   "nbconvert_exporter": "python",
   "pygments_lexer": "ipython3",
   "version": "3.11.5"
  }
 },
 "nbformat": 4,
 "nbformat_minor": 5
}
